{
 "cells": [
  {
   "cell_type": "markdown",
   "metadata": {
    "colab_type": "text",
    "id": "gNx553QyYm9w"
   },
   "source": [
    "# Actividad individual 1. Clasficación no supervisada.\n",
    "\n",
    "## Introduccion. Cargar el csv. \n",
    "Para este problema de clasificación no supervisada he eligido un dataset de alimentos y sus propiedades nutritivas."
   ]
  },
  {
   "cell_type": "code",
   "execution_count": 1,
   "metadata": {
    "colab": {},
    "colab_type": "code",
    "id": "UEH5HrgEYm9z",
    "outputId": "ae454493-cbd3-4660-b2b3-11d7da932771"
   },
   "outputs": [
    {
     "data": {
      "text/html": [
       "<div>\n",
       "<style scoped>\n",
       "    .dataframe tbody tr th:only-of-type {\n",
       "        vertical-align: middle;\n",
       "    }\n",
       "\n",
       "    .dataframe tbody tr th {\n",
       "        vertical-align: top;\n",
       "    }\n",
       "\n",
       "    .dataframe thead th {\n",
       "        text-align: right;\n",
       "    }\n",
       "</style>\n",
       "<table border=\"1\" class=\"dataframe\">\n",
       "  <thead>\n",
       "    <tr style=\"text-align: right;\">\n",
       "      <th></th>\n",
       "      <th>Food and Serving</th>\n",
       "      <th>Calories</th>\n",
       "      <th>CaloriesÊfrom Fat</th>\n",
       "      <th>Total Fat</th>\n",
       "      <th>Total Fat.1</th>\n",
       "      <th>Sodium</th>\n",
       "      <th>Sodium.1</th>\n",
       "      <th>Potassium</th>\n",
       "      <th>Potassium.1</th>\n",
       "      <th>Total Carbo-hydrate</th>\n",
       "      <th>...</th>\n",
       "      <th>Protein</th>\n",
       "      <th>Vitamin A</th>\n",
       "      <th>Vitamin C</th>\n",
       "      <th>Calcium</th>\n",
       "      <th>ÊÊIronÊÊ</th>\n",
       "      <th>Saturated Fat</th>\n",
       "      <th>Saturated Fat.1</th>\n",
       "      <th>Chole-sterol</th>\n",
       "      <th>Chole-sterol.1</th>\n",
       "      <th>Food Type</th>\n",
       "    </tr>\n",
       "  </thead>\n",
       "  <tbody>\n",
       "    <tr>\n",
       "      <th>0</th>\n",
       "      <td>NaN</td>\n",
       "      <td>NaN</td>\n",
       "      <td>NaN</td>\n",
       "      <td>(g)</td>\n",
       "      <td>(%DV)</td>\n",
       "      <td>(g)</td>\n",
       "      <td>(%DV)</td>\n",
       "      <td>(g)</td>\n",
       "      <td>(%DV)</td>\n",
       "      <td>(g)</td>\n",
       "      <td>...</td>\n",
       "      <td>(g)</td>\n",
       "      <td>(%DV)</td>\n",
       "      <td>(%DV)</td>\n",
       "      <td>(%DV)</td>\n",
       "      <td>(%DV)</td>\n",
       "      <td>(%DV)</td>\n",
       "      <td>(mg)Ê</td>\n",
       "      <td>(%DV)</td>\n",
       "      <td>(mg)Ê</td>\n",
       "      <td>NaN</td>\n",
       "    </tr>\n",
       "    <tr>\n",
       "      <th>1</th>\n",
       "      <td>Asparagus, 5 spears (93 g/3.3 oz)</td>\n",
       "      <td>20.0</td>\n",
       "      <td>0.0</td>\n",
       "      <td>0</td>\n",
       "      <td>0</td>\n",
       "      <td>0</td>\n",
       "      <td>0</td>\n",
       "      <td>230</td>\n",
       "      <td>7</td>\n",
       "      <td>4</td>\n",
       "      <td>...</td>\n",
       "      <td>2</td>\n",
       "      <td>10</td>\n",
       "      <td>15</td>\n",
       "      <td>2</td>\n",
       "      <td>2</td>\n",
       "      <td>NaN</td>\n",
       "      <td>NaN</td>\n",
       "      <td>NaN</td>\n",
       "      <td>NaN</td>\n",
       "      <td>Vegetables, Serving Size (gram weight/Êounce w...</td>\n",
       "    </tr>\n",
       "    <tr>\n",
       "      <th>2</th>\n",
       "      <td>Bell Pepper, 1 medium (148 g/5.3 oz)</td>\n",
       "      <td>25.0</td>\n",
       "      <td>0.0</td>\n",
       "      <td>0</td>\n",
       "      <td>0</td>\n",
       "      <td>40</td>\n",
       "      <td>2</td>\n",
       "      <td>220</td>\n",
       "      <td>6</td>\n",
       "      <td>6</td>\n",
       "      <td>...</td>\n",
       "      <td>1</td>\n",
       "      <td>4</td>\n",
       "      <td>190</td>\n",
       "      <td>2</td>\n",
       "      <td>4</td>\n",
       "      <td>NaN</td>\n",
       "      <td>NaN</td>\n",
       "      <td>NaN</td>\n",
       "      <td>NaN</td>\n",
       "      <td>Vegetables, Serving Size (gram weight/Êounce w...</td>\n",
       "    </tr>\n",
       "    <tr>\n",
       "      <th>3</th>\n",
       "      <td>Broccoli, 1 medium stalk (148 g/5.3 oz)</td>\n",
       "      <td>45.0</td>\n",
       "      <td>0.0</td>\n",
       "      <td>0.5</td>\n",
       "      <td>1</td>\n",
       "      <td>80</td>\n",
       "      <td>3</td>\n",
       "      <td>460</td>\n",
       "      <td>13</td>\n",
       "      <td>8</td>\n",
       "      <td>...</td>\n",
       "      <td>4</td>\n",
       "      <td>6</td>\n",
       "      <td>220</td>\n",
       "      <td>6</td>\n",
       "      <td>6</td>\n",
       "      <td>NaN</td>\n",
       "      <td>NaN</td>\n",
       "      <td>NaN</td>\n",
       "      <td>NaN</td>\n",
       "      <td>Vegetables, Serving Size (gram weight/Êounce w...</td>\n",
       "    </tr>\n",
       "    <tr>\n",
       "      <th>4</th>\n",
       "      <td>Carrot, 1 carrot, 7\" long,Ê1 1/4\" diameter (78...</td>\n",
       "      <td>30.0</td>\n",
       "      <td>0.0</td>\n",
       "      <td>0</td>\n",
       "      <td>0</td>\n",
       "      <td>60</td>\n",
       "      <td>3</td>\n",
       "      <td>250</td>\n",
       "      <td>7</td>\n",
       "      <td>7</td>\n",
       "      <td>...</td>\n",
       "      <td>1</td>\n",
       "      <td>110</td>\n",
       "      <td>10</td>\n",
       "      <td>2</td>\n",
       "      <td>2</td>\n",
       "      <td>NaN</td>\n",
       "      <td>NaN</td>\n",
       "      <td>NaN</td>\n",
       "      <td>NaN</td>\n",
       "      <td>Vegetables, Serving Size (gram weight/Êounce w...</td>\n",
       "    </tr>\n",
       "  </tbody>\n",
       "</table>\n",
       "<p>5 rows × 24 columns</p>\n",
       "</div>"
      ],
      "text/plain": [
       "                                    Food and Serving  Calories  \\\n",
       "0                                                NaN       NaN   \n",
       "1                  Asparagus, 5 spears (93 g/3.3 oz)      20.0   \n",
       "2               Bell Pepper, 1 medium (148 g/5.3 oz)      25.0   \n",
       "3            Broccoli, 1 medium stalk (148 g/5.3 oz)      45.0   \n",
       "4  Carrot, 1 carrot, 7\" long,Ê1 1/4\" diameter (78...      30.0   \n",
       "\n",
       "   CaloriesÊfrom Fat Total Fat Total Fat.1 Sodium Sodium.1 Potassium  \\\n",
       "0                NaN       (g)       (%DV)    (g)    (%DV)       (g)   \n",
       "1                0.0         0           0      0        0       230   \n",
       "2                0.0         0           0     40        2       220   \n",
       "3                0.0       0.5           1     80        3       460   \n",
       "4                0.0         0           0     60        3       250   \n",
       "\n",
       "  Potassium.1 Total Carbo-hydrate  \\\n",
       "0       (%DV)                 (g)   \n",
       "1           7                   4   \n",
       "2           6                   6   \n",
       "3          13                   8   \n",
       "4           7                   7   \n",
       "\n",
       "                         ...                         Protein Vitamin A  \\\n",
       "0                        ...                             (g)     (%DV)   \n",
       "1                        ...                               2        10   \n",
       "2                        ...                               1         4   \n",
       "3                        ...                               4         6   \n",
       "4                        ...                               1       110   \n",
       "\n",
       "  Vitamin C Calcium ÊÊIronÊÊ Saturated Fat Saturated Fat.1 Chole-sterol  \\\n",
       "0     (%DV)   (%DV)    (%DV)         (%DV)           (mg)Ê        (%DV)   \n",
       "1        15       2        2           NaN             NaN          NaN   \n",
       "2       190       2        4           NaN             NaN          NaN   \n",
       "3       220       6        6           NaN             NaN          NaN   \n",
       "4        10       2        2           NaN             NaN          NaN   \n",
       "\n",
       "  Chole-sterol.1                                          Food Type  \n",
       "0          (mg)Ê                                                NaN  \n",
       "1            NaN  Vegetables, Serving Size (gram weight/Êounce w...  \n",
       "2            NaN  Vegetables, Serving Size (gram weight/Êounce w...  \n",
       "3            NaN  Vegetables, Serving Size (gram weight/Êounce w...  \n",
       "4            NaN  Vegetables, Serving Size (gram weight/Êounce w...  \n",
       "\n",
       "[5 rows x 24 columns]"
      ]
     },
     "execution_count": 1,
     "metadata": {},
     "output_type": "execute_result"
    }
   ],
   "source": [
    "import pandas as pd\n",
    "df = pd.read_csv('NutritionalFacts_Fruit_Vegetables_Seafood.csv', encoding = \"ISO-8859-1\", header = 0)\n",
    "df.head()"
   ]
  },
  {
   "cell_type": "markdown",
   "metadata": {
    "colab_type": "text",
    "id": "GAmy1s-BYm94"
   },
   "source": [
    "Antes que nada voy a ver una lista de todas las columnas, y el tipo de dato que ha importado `pandas`"
   ]
  },
  {
   "cell_type": "code",
   "execution_count": 2,
   "metadata": {
    "colab": {},
    "colab_type": "code",
    "id": "7nNqepZjYm94",
    "outputId": "de3ca0de-1afb-4f27-a5e2-7df9df0a1405"
   },
   "outputs": [
    {
     "data": {
      "text/plain": [
       "Food and Serving          object\n",
       "Calories                 float64\n",
       "CaloriesÊfrom Fat        float64\n",
       "Total Fat                 object\n",
       "Total Fat.1               object\n",
       "Sodium                    object\n",
       "Sodium.1                  object\n",
       "Potassium                 object\n",
       "Potassium.1               object\n",
       "Total Carbo-hydrate       object\n",
       "Total Carbo-hydrate.1     object\n",
       "Dietary Fiber             object\n",
       "Dietary Fiber.1           object\n",
       "Sugars                    object\n",
       "Protein                   object\n",
       "Vitamin A                 object\n",
       "Vitamin C                 object\n",
       "Calcium                   object\n",
       "ÊÊIronÊÊ                  object\n",
       "Saturated Fat             object\n",
       "Saturated Fat.1           object\n",
       "Chole-sterol              object\n",
       "Chole-sterol.1            object\n",
       "Food Type                 object\n",
       "dtype: object"
      ]
     },
     "execution_count": 2,
     "metadata": {},
     "output_type": "execute_result"
    }
   ],
   "source": [
    "df.dtypes"
   ]
  },
  {
   "cell_type": "markdown",
   "metadata": {
    "colab_type": "text",
    "id": "_X1qImWqYm98"
   },
   "source": [
    "Casi todas las columnas se han importado con el formato generico de `pandas`. Esto es debidoa a que la primera fila, que contiene los campos de unidades, imposibilita la conversion de esas columnas a formato numerico. Si evitamos la  la lectura de esta primera fila:"
   ]
  },
  {
   "cell_type": "code",
   "execution_count": 3,
   "metadata": {
    "colab": {},
    "colab_type": "code",
    "id": "0EYSQ0xkYm99",
    "outputId": "a04b56c8-88f6-44de-94c2-75b57d7c9719"
   },
   "outputs": [
    {
     "name": "stdout",
     "output_type": "stream",
     "text": [
      "Food and Serving no es tipo numerico\n",
      "Food Type no es tipo numerico\n"
     ]
    }
   ],
   "source": [
    "# eliminamos la fila de las unidades\n",
    "df1 = df.drop( df.index[0])\n",
    "\n",
    "# trasformamos dataframe\n",
    "cols = df.columns.tolist()\n",
    "for col in cols:\n",
    "    try:\n",
    "        df1[col] = df1[col].apply(pd.to_numeric)\n",
    "    except:\n",
    "        print(f'{col} no es tipo numerico')\n",
    "        next"
   ]
  },
  {
   "cell_type": "markdown",
   "metadata": {
    "colab_type": "text",
    "id": "NvfP8EDQYm-A"
   },
   "source": [
    "Tiene sentido, ya que las columnas *Food and Servingson* y *Food Type* son texto. \n",
    "\n",
    "Si ahora revisamos el dataframe, la conversion de la columnas ha sido exitosa. "
   ]
  },
  {
   "cell_type": "code",
   "execution_count": 4,
   "metadata": {
    "colab": {},
    "colab_type": "code",
    "id": "BbgrmhIGYm-B",
    "outputId": "ff98f36a-b61f-40b1-81aa-04531f8ff406"
   },
   "outputs": [
    {
     "data": {
      "text/plain": [
       "Food and Serving          object\n",
       "Calories                 float64\n",
       "CaloriesÊfrom Fat        float64\n",
       "Total Fat                float64\n",
       "Total Fat.1                int64\n",
       "Sodium                     int64\n",
       "Sodium.1                   int64\n",
       "Potassium                  int64\n",
       "Potassium.1                int64\n",
       "Total Carbo-hydrate        int64\n",
       "Total Carbo-hydrate.1      int64\n",
       "Dietary Fiber            float64\n",
       "Dietary Fiber.1          float64\n",
       "Sugars                   float64\n",
       "Protein                    int64\n",
       "Vitamin A                  int64\n",
       "Vitamin C                  int64\n",
       "Calcium                    int64\n",
       "ÊÊIronÊÊ                   int64\n",
       "Saturated Fat            float64\n",
       "Saturated Fat.1          float64\n",
       "Chole-sterol             float64\n",
       "Chole-sterol.1           float64\n",
       "Food Type                 object\n",
       "dtype: object"
      ]
     },
     "execution_count": 4,
     "metadata": {},
     "output_type": "execute_result"
    }
   ],
   "source": [
    "df1.dtypes"
   ]
  },
  {
   "cell_type": "markdown",
   "metadata": {
    "colab_type": "text",
    "id": "38WES48rYm-D"
   },
   "source": [
    "## Selección de datos para el cluster y limpieza"
   ]
  },
  {
   "cell_type": "markdown",
   "metadata": {
    "colab_type": "text",
    "id": "pAeAg71zYm-E"
   },
   "source": [
    "He elegido las columnas de `Calorias, Total Fat (g), Protein (g)`. En una primera aproximación elegi la columna de `Food Type`, y descubri que un ejercicio de cluster con variales de tipo texto complicaba muchisimo el analisis, ya que tendria que reducirlas a variables categóricas y aun así el analisis era demasiado complejo. "
   ]
  },
  {
   "cell_type": "code",
   "execution_count": 5,
   "metadata": {
    "colab": {},
    "colab_type": "code",
    "id": "wZg2MLUsYm-F",
    "outputId": "f9152044-49f3-41f8-8d29-8e1c749d2b77"
   },
   "outputs": [
    {
     "data": {
      "text/html": [
       "<div>\n",
       "<style scoped>\n",
       "    .dataframe tbody tr th:only-of-type {\n",
       "        vertical-align: middle;\n",
       "    }\n",
       "\n",
       "    .dataframe tbody tr th {\n",
       "        vertical-align: top;\n",
       "    }\n",
       "\n",
       "    .dataframe thead th {\n",
       "        text-align: right;\n",
       "    }\n",
       "</style>\n",
       "<table border=\"1\" class=\"dataframe\">\n",
       "  <thead>\n",
       "    <tr style=\"text-align: right;\">\n",
       "      <th></th>\n",
       "      <th>Food and Serving</th>\n",
       "      <th>Calories</th>\n",
       "      <th>Total Fat</th>\n",
       "      <th>Protein</th>\n",
       "    </tr>\n",
       "  </thead>\n",
       "  <tbody>\n",
       "    <tr>\n",
       "      <th>1</th>\n",
       "      <td>Asparagus, 5 spears (93 g/3.3 oz)</td>\n",
       "      <td>20.0</td>\n",
       "      <td>0.0</td>\n",
       "      <td>2</td>\n",
       "    </tr>\n",
       "    <tr>\n",
       "      <th>2</th>\n",
       "      <td>Bell Pepper, 1 medium (148 g/5.3 oz)</td>\n",
       "      <td>25.0</td>\n",
       "      <td>0.0</td>\n",
       "      <td>1</td>\n",
       "    </tr>\n",
       "    <tr>\n",
       "      <th>3</th>\n",
       "      <td>Broccoli, 1 medium stalk (148 g/5.3 oz)</td>\n",
       "      <td>45.0</td>\n",
       "      <td>0.5</td>\n",
       "      <td>4</td>\n",
       "    </tr>\n",
       "    <tr>\n",
       "      <th>4</th>\n",
       "      <td>Carrot, 1 carrot, 7\" long,Ê1 1/4\" diameter (78...</td>\n",
       "      <td>30.0</td>\n",
       "      <td>0.0</td>\n",
       "      <td>1</td>\n",
       "    </tr>\n",
       "    <tr>\n",
       "      <th>5</th>\n",
       "      <td>Cauliflower, 1/6 medium head (99 g/3.5 oz)</td>\n",
       "      <td>25.0</td>\n",
       "      <td>0.0</td>\n",
       "      <td>2</td>\n",
       "    </tr>\n",
       "  </tbody>\n",
       "</table>\n",
       "</div>"
      ],
      "text/plain": [
       "                                    Food and Serving  Calories  Total Fat  \\\n",
       "1                  Asparagus, 5 spears (93 g/3.3 oz)      20.0        0.0   \n",
       "2               Bell Pepper, 1 medium (148 g/5.3 oz)      25.0        0.0   \n",
       "3            Broccoli, 1 medium stalk (148 g/5.3 oz)      45.0        0.5   \n",
       "4  Carrot, 1 carrot, 7\" long,Ê1 1/4\" diameter (78...      30.0        0.0   \n",
       "5         Cauliflower, 1/6 medium head (99 g/3.5 oz)      25.0        0.0   \n",
       "\n",
       "   Protein  \n",
       "1        2  \n",
       "2        1  \n",
       "3        4  \n",
       "4        1  \n",
       "5        2  "
      ]
     },
     "execution_count": 5,
     "metadata": {},
     "output_type": "execute_result"
    }
   ],
   "source": [
    "df2 = df1[['Food and Serving', 'Calories', 'Total Fat', 'Protein']]\n",
    "df2.head()"
   ]
  },
  {
   "cell_type": "markdown",
   "metadata": {
    "colab_type": "text",
    "id": "GQM0HvsQYm-I"
   },
   "source": [
    "Los datos que introduciremos en el cluster seran solo las propiedades de cada alimento."
   ]
  },
  {
   "cell_type": "code",
   "execution_count": 85,
   "metadata": {
    "colab": {},
    "colab_type": "code",
    "id": "oWQvoDUuYm-J"
   },
   "outputs": [],
   "source": [
    "clmns = [ 'Calories', 'Total Fat', 'Protein']\n",
    "df_cluster = df1[clmns]"
   ]
  },
  {
   "cell_type": "markdown",
   "metadata": {
    "colab_type": "text",
    "id": "jo97wo9yYm-L"
   },
   "source": [
    "## Gestion de missing values y NaN"
   ]
  },
  {
   "cell_type": "code",
   "execution_count": 86,
   "metadata": {
    "colab": {},
    "colab_type": "code",
    "id": "v34WLQPOYm-M",
    "outputId": "a66a7fa3-98e6-4075-948e-1fbee9424b4c"
   },
   "outputs": [
    {
     "data": {
      "text/plain": [
       "Calories     0\n",
       "Total Fat    0\n",
       "Protein      0\n",
       "dtype: int64"
      ]
     },
     "execution_count": 86,
     "metadata": {},
     "output_type": "execute_result"
    }
   ],
   "source": [
    "df_cluster.isna().sum()"
   ]
  },
  {
   "cell_type": "markdown",
   "metadata": {
    "colab_type": "text",
    "id": "12I-349zh5Lu"
   },
   "source": [
    "Este dataframe que he llamada `df_cluster` está limpio de missing values, datos NaN o Inf."
   ]
  },
  {
   "cell_type": "markdown",
   "metadata": {
    "colab_type": "text",
    "id": "Dc5ce_ZyYm-O"
   },
   "source": [
    "# Exploración de datos"
   ]
  },
  {
   "cell_type": "markdown",
   "metadata": {
    "colab_type": "text",
    "id": "vDJJJoIYYm-P"
   },
   "source": [
    "Para tener un poco más de visión del dataset, vamos a ver una descripción del mismo."
   ]
  },
  {
   "cell_type": "code",
   "execution_count": 87,
   "metadata": {
    "colab": {},
    "colab_type": "code",
    "id": "79DIvM4nYm-Q",
    "outputId": "7af4d6a3-9067-44f3-b210-795753e935fb"
   },
   "outputs": [
    {
     "data": {
      "text/html": [
       "<div>\n",
       "<style scoped>\n",
       "    .dataframe tbody tr th:only-of-type {\n",
       "        vertical-align: middle;\n",
       "    }\n",
       "\n",
       "    .dataframe tbody tr th {\n",
       "        vertical-align: top;\n",
       "    }\n",
       "\n",
       "    .dataframe thead th {\n",
       "        text-align: right;\n",
       "    }\n",
       "</style>\n",
       "<table border=\"1\" class=\"dataframe\">\n",
       "  <thead>\n",
       "    <tr style=\"text-align: right;\">\n",
       "      <th></th>\n",
       "      <th>Calories</th>\n",
       "      <th>Total Fat</th>\n",
       "      <th>Protein</th>\n",
       "    </tr>\n",
       "  </thead>\n",
       "  <tbody>\n",
       "    <tr>\n",
       "      <th>count</th>\n",
       "      <td>61.000000</td>\n",
       "      <td>61.000000</td>\n",
       "      <td>61.000000</td>\n",
       "    </tr>\n",
       "    <tr>\n",
       "      <th>mean</th>\n",
       "      <td>72.540984</td>\n",
       "      <td>1.090164</td>\n",
       "      <td>7.655738</td>\n",
       "    </tr>\n",
       "    <tr>\n",
       "      <th>std</th>\n",
       "      <td>43.690416</td>\n",
       "      <td>1.954713</td>\n",
       "      <td>9.305707</td>\n",
       "    </tr>\n",
       "    <tr>\n",
       "      <th>min</th>\n",
       "      <td>10.000000</td>\n",
       "      <td>0.000000</td>\n",
       "      <td>0.000000</td>\n",
       "    </tr>\n",
       "    <tr>\n",
       "      <th>25%</th>\n",
       "      <td>25.000000</td>\n",
       "      <td>0.000000</td>\n",
       "      <td>1.000000</td>\n",
       "    </tr>\n",
       "    <tr>\n",
       "      <th>50%</th>\n",
       "      <td>80.000000</td>\n",
       "      <td>0.000000</td>\n",
       "      <td>1.000000</td>\n",
       "    </tr>\n",
       "    <tr>\n",
       "      <th>75%</th>\n",
       "      <td>100.000000</td>\n",
       "      <td>1.500000</td>\n",
       "      <td>17.000000</td>\n",
       "    </tr>\n",
       "    <tr>\n",
       "      <th>max</th>\n",
       "      <td>200.000000</td>\n",
       "      <td>10.000000</td>\n",
       "      <td>27.000000</td>\n",
       "    </tr>\n",
       "  </tbody>\n",
       "</table>\n",
       "</div>"
      ],
      "text/plain": [
       "         Calories  Total Fat    Protein\n",
       "count   61.000000  61.000000  61.000000\n",
       "mean    72.540984   1.090164   7.655738\n",
       "std     43.690416   1.954713   9.305707\n",
       "min     10.000000   0.000000   0.000000\n",
       "25%     25.000000   0.000000   1.000000\n",
       "50%     80.000000   0.000000   1.000000\n",
       "75%    100.000000   1.500000  17.000000\n",
       "max    200.000000  10.000000  27.000000"
      ]
     },
     "execution_count": 87,
     "metadata": {},
     "output_type": "execute_result"
    }
   ],
   "source": [
    "df_cluster.describe(include='all')"
   ]
  },
  {
   "cell_type": "markdown",
   "metadata": {
    "colab_type": "text",
    "id": "jHO33iSOYm-T"
   },
   "source": [
    "Aqui podemos ver que el rango de valores que toman las variables es muy diferente. Mientras que las `Calories` pueden tomar valores entre 10 y 200, las grasas y proteinas solo de 0 a 10 y 27 respectivamente. Esto será importante tenerlo en cuenta cuando hagamos el estudio de cluster, ya que deberemos entandarizar el dataset.  "
   ]
  },
  {
   "cell_type": "code",
   "execution_count": 88,
   "metadata": {
    "colab": {},
    "colab_type": "code",
    "id": "ZqkSVedHYm-U",
    "outputId": "73ec1f1f-0bf6-4b2d-9cf3-1ef1975fb319"
   },
   "outputs": [
    {
     "data": {
      "text/plain": [
       "<seaborn.axisgrid.PairGrid at 0x1e7fc801978>"
      ]
     },
     "execution_count": 88,
     "metadata": {},
     "output_type": "execute_result"
    },
    {
     "data": {
      "image/png": "[encoded data removed]",
      "text/plain": [
       "<Figure size 540x540 with 12 Axes>"
      ]
     },
     "metadata": {
      "needs_background": "light"
     },
     "output_type": "display_data"
    }
   ],
   "source": [
    "import seaborn as sns\n",
    "sns.pairplot(df_cluster)"
   ]
  },
  {
   "cell_type": "markdown",
   "metadata": {
    "colab_type": "text",
    "id": "K84h457WYm-X"
   },
   "source": [
    "A la vista de los histogramas parece que:\n",
    "- Vamos a encontrar alimentos bajos y ricos en proteinas.\n",
    "- Los valores de grasas estan muy concetrados en valores menores a 5g.\n",
    "- El muestreo para las calorias es más uniforme.\n",
    "\n",
    "Además, si observamos los graficos de dispersion parece que no hay correlacion entre las variables escogidas. \n",
    "\n",
    "Vamos a mostrar un mapa de correlacion para asegurarnos.\n"
   ]
  },
  {
   "cell_type": "code",
   "execution_count": 10,
   "metadata": {
    "colab": {},
    "colab_type": "code",
    "id": "lsFNqW2wYm-Z",
    "outputId": "7b3b7730-0d06-4a4f-f0f3-442286f3e99d"
   },
   "outputs": [
    {
     "data": {
      "text/plain": [
       "<matplotlib.axes._subplots.AxesSubplot at 0x1e7f2341828>"
      ]
     },
     "execution_count": 10,
     "metadata": {},
     "output_type": "execute_result"
    },
    {
     "data": {
      "image/png": "[encoded data removed]",
      "text/plain": [
       "<Figure size 432x288 with 2 Axes>"
      ]
     },
     "metadata": {
      "needs_background": "light"
     },
     "output_type": "display_data"
    }
   ],
   "source": [
    "sns.heatmap(df_cluster.corr(), annot=True, fmt=\".2f\")"
   ]
  },
  {
   "cell_type": "markdown",
   "metadata": {
    "colab_type": "text",
    "id": "4W4w5u2hYm-b"
   },
   "source": [
    "Ninguno de los valores se acerca a 0.9, efectivamente no hay correlacion entre las variables. "
   ]
  },
  {
   "cell_type": "markdown",
   "metadata": {
    "colab_type": "text",
    "id": "FhPoJncKYm-c"
   },
   "source": [
    "# Cluster analisis. \n",
    "\n",
    "Veamos que resultados nos arroja el analisis de `KMeans Clustering` ."
   ]
  },
  {
   "cell_type": "code",
   "execution_count": 11,
   "metadata": {
    "colab": {},
    "colab_type": "code",
    "id": "gwWBcROEYm-d"
   },
   "outputs": [],
   "source": [
    "from scipy import stats\n",
    "from sklearn.cluster import KMeans\n",
    "\n",
    "import numpy as np\n",
    "import matplotlib.pyplot as plt"
   ]
  },
  {
   "cell_type": "markdown",
   "metadata": {
    "colab_type": "text",
    "id": "h1TyTRVXYm-g"
   },
   "source": [
    "Vamos a probar inicialmente a detectar los dos grupos que veiamos en el `pairplot` del apartado anterior, aquellos alimentos con bajo y alto contenido en proteinas. "
   ]
  },
  {
   "cell_type": "code",
   "execution_count": 12,
   "metadata": {
    "colab": {},
    "colab_type": "code",
    "id": "VKFSTjvQYm-g",
    "outputId": "a20fda34-2f63-47be-cac6-4706fff7f4ab"
   },
   "outputs": [
    {
     "name": "stderr",
     "output_type": "stream",
     "text": [
      "C:\\ProgramData\\Miniconda3\\lib\\site-packages\\ipykernel_launcher.py:10: SettingWithCopyWarning: \n",
      "A value is trying to be set on a copy of a slice from a DataFrame.\n",
      "Try using .loc[row_indexer,col_indexer] = value instead\n",
      "\n",
      "See the caveats in the documentation: http://pandas.pydata.org/pandas-docs/stable/indexing.html#indexing-view-versus-copy\n",
      "  # Remove the CWD from sys.path while we load stuff.\n"
     ]
    }
   ],
   "source": [
    "#Estandarizamos\n",
    "df_tr_std = stats.zscore(df_cluster[clmns])\n",
    "\n",
    "#Generamos el cluster \n",
    "kmeans = KMeans(n_clusters=2, random_state=0).fit(df_tr_std)\n",
    "labels = kmeans.labels_\n",
    "y_kmeans = kmeans.predict(df_tr_std)\n",
    "\n",
    "#Asociamos esta informacion a los datos originales\n",
    "df_cluster['2clusters'] = labels\n",
    "clmns.extend(['2clusters'])"
   ]
  },
  {
   "cell_type": "code",
   "execution_count": 13,
   "metadata": {
    "colab": {},
    "colab_type": "code",
    "id": "lKFa3ZgGYm-k",
    "outputId": "6e6b2b80-0bb0-44d0-9a79-4acbe5d3de8d"
   },
   "outputs": [
    {
     "data": {
      "text/html": [
       "<div>\n",
       "<style scoped>\n",
       "    .dataframe tbody tr th:only-of-type {\n",
       "        vertical-align: middle;\n",
       "    }\n",
       "\n",
       "    .dataframe tbody tr th {\n",
       "        vertical-align: top;\n",
       "    }\n",
       "\n",
       "    .dataframe thead th {\n",
       "        text-align: right;\n",
       "    }\n",
       "</style>\n",
       "<table border=\"1\" class=\"dataframe\">\n",
       "  <thead>\n",
       "    <tr style=\"text-align: right;\">\n",
       "      <th></th>\n",
       "      <th>Calories</th>\n",
       "      <th>Total Fat</th>\n",
       "      <th>Protein</th>\n",
       "    </tr>\n",
       "    <tr>\n",
       "      <th>2clusters</th>\n",
       "      <th></th>\n",
       "      <th></th>\n",
       "      <th></th>\n",
       "    </tr>\n",
       "  </thead>\n",
       "  <tbody>\n",
       "    <tr>\n",
       "      <th>0</th>\n",
       "      <td>113.809524</td>\n",
       "      <td>2.714286</td>\n",
       "      <td>20.000</td>\n",
       "    </tr>\n",
       "    <tr>\n",
       "      <th>1</th>\n",
       "      <td>50.875000</td>\n",
       "      <td>0.237500</td>\n",
       "      <td>1.175</td>\n",
       "    </tr>\n",
       "  </tbody>\n",
       "</table>\n",
       "</div>"
      ],
      "text/plain": [
       "             Calories  Total Fat  Protein\n",
       "2clusters                                \n",
       "0          113.809524   2.714286   20.000\n",
       "1           50.875000   0.237500    1.175"
      ]
     },
     "execution_count": 13,
     "metadata": {},
     "output_type": "execute_result"
    }
   ],
   "source": [
    "# Revisamos los clusters\n",
    "df_cluster[clmns].groupby(['2clusters']).mean()"
   ]
  },
  {
   "cell_type": "markdown",
   "metadata": {
    "colab_type": "text",
    "id": "7z1Blx9cYm-m"
   },
   "source": [
    "Efectivamente,  hay un cluster sobre alimentos más caloricos grasos y con alto contenido en proteinas,  y otro con alimentos más ligeros.\n",
    "\n",
    "Si representamos proteinas frente a las grasas y las calorias podemos ver estos dos grupos muy bien diferenciados."
   ]
  },
  {
   "cell_type": "code",
   "execution_count": 63,
   "metadata": {
    "colab": {},
    "colab_type": "code",
    "id": "l3ugGenfYm-n",
    "outputId": "690fe816-f4b6-4a20-d3db-47d17abb243a"
   },
   "outputs": [
    {
     "data": {
      "text/plain": [
       "<matplotlib.axes._subplots.AxesSubplot at 0x1e7f951e518>"
      ]
     },
     "execution_count": 63,
     "metadata": {},
     "output_type": "execute_result"
    },
    {
     "data": {
      "image/png": "[encoded data removed]",
      "text/plain": [
       "<Figure size 1152x360 with 2 Axes>"
      ]
     },
     "metadata": {
      "needs_background": "light"
     },
     "output_type": "display_data"
    }
   ],
   "source": [
    "fig, axs = plt.subplots(1,2, figsize= (16,5))\n",
    "df_cluster.plot.scatter('Protein', 'Total Fat', c = y_kmeans,\n",
    "                        s=50, cmap='viridis', colorbar = False, ax= axs[0])\n",
    "df_cluster.plot.scatter('Protein', 'Calories', c = y_kmeans,\n",
    "                        s=50, cmap='viridis', colorbar = False, ax= axs[1])"
   ]
  },
  {
   "cell_type": "markdown",
   "metadata": {
    "colab_type": "text",
    "id": "MQ8ehLNZYm-s"
   },
   "source": []
  },
  {
   "cell_type": "markdown",
   "metadata": {
    "colab_type": "text",
    "id": "VC5xgci1Ym-t"
   },
   "source": [
    "## Estudio hierarquical clustering"
   ]
  },
  {
   "cell_type": "code",
   "execution_count": 16,
   "metadata": {
    "colab": {},
    "colab_type": "code",
    "id": "YuJhqFZ_Ym-v",
    "outputId": "a682eee2-dc2d-4e3d-c3fc-ad92478d3de5"
   },
   "outputs": [
    {
     "data": {
      "image/png": "[encoded data removed]",
      "text/plain": [
       "<Figure size 720x504 with 1 Axes>"
      ]
     },
     "metadata": {
      "needs_background": "light"
     },
     "output_type": "display_data"
    }
   ],
   "source": [
    "import scipy.cluster.hierarchy as shc\n",
    "\n",
    "plt.figure(figsize=(10, 7))\n",
    "plt.title(\"Customer Dendograms\")\n",
    "dend = shc.dendrogram(shc.linkage(df_tr_std, method='ward'))"
   ]
  },
  {
   "cell_type": "markdown",
   "metadata": {
    "colab_type": "text",
    "id": "SXqgOjezYm-y"
   },
   "source": [
    "Aquí podemos ver que otro número de cluster interesante podria ser 4. Para obtener la informacion de cluster con el mismo metodo que usa el `hierarquical clustering`, utilizamos el mismo método: `ward`. "
   ]
  },
  {
   "cell_type": "code",
   "execution_count": 17,
   "metadata": {
    "colab": {},
    "colab_type": "code",
    "id": "5rZkxsxdYm-z",
    "outputId": "9d788e51-eccb-4577-c5c7-6d7a02e8ed6b"
   },
   "outputs": [
    {
     "name": "stderr",
     "output_type": "stream",
     "text": [
      "C:\\ProgramData\\Miniconda3\\lib\\site-packages\\ipykernel_launcher.py:7: SettingWithCopyWarning: \n",
      "A value is trying to be set on a copy of a slice from a DataFrame.\n",
      "Try using .loc[row_indexer,col_indexer] = value instead\n",
      "\n",
      "See the caveats in the documentation: http://pandas.pydata.org/pandas-docs/stable/indexing.html#indexing-view-versus-copy\n",
      "  import sys\n"
     ]
    }
   ],
   "source": [
    "from sklearn.cluster import AgglomerativeClustering\n",
    "\n",
    "cluster = AgglomerativeClustering(n_clusters=4, affinity='euclidean', linkage='ward')\n",
    "y_pred = cluster.fit_predict(df_tr_std)\n",
    "labels = cluster.labels_\n",
    "\n",
    "df_cluster['4clusters'] = labels\n",
    "clmns.extend(['4clusters'])"
   ]
  },
  {
   "cell_type": "code",
   "execution_count": 18,
   "metadata": {
    "colab": {},
    "colab_type": "code",
    "id": "GJnKqufhYm-1",
    "outputId": "ae73f689-e860-442c-ee86-f3f690383324"
   },
   "outputs": [
    {
     "data": {
      "text/html": [
       "<div>\n",
       "<style scoped>\n",
       "    .dataframe tbody tr th:only-of-type {\n",
       "        vertical-align: middle;\n",
       "    }\n",
       "\n",
       "    .dataframe tbody tr th {\n",
       "        vertical-align: top;\n",
       "    }\n",
       "\n",
       "    .dataframe thead th {\n",
       "        text-align: right;\n",
       "    }\n",
       "</style>\n",
       "<table border=\"1\" class=\"dataframe\">\n",
       "  <thead>\n",
       "    <tr style=\"text-align: right;\">\n",
       "      <th></th>\n",
       "      <th>Calories</th>\n",
       "      <th>Total Fat</th>\n",
       "      <th>Protein</th>\n",
       "      <th>2clusters</th>\n",
       "    </tr>\n",
       "    <tr>\n",
       "      <th>4clusters</th>\n",
       "      <th></th>\n",
       "      <th></th>\n",
       "      <th></th>\n",
       "      <th></th>\n",
       "    </tr>\n",
       "  </thead>\n",
       "  <tbody>\n",
       "    <tr>\n",
       "      <th>0</th>\n",
       "      <td>94.615385</td>\n",
       "      <td>0.923077</td>\n",
       "      <td>2.076923</td>\n",
       "      <td>0.923077</td>\n",
       "    </tr>\n",
       "    <tr>\n",
       "      <th>1</th>\n",
       "      <td>147.500000</td>\n",
       "      <td>7.000000</td>\n",
       "      <td>19.250000</td>\n",
       "      <td>0.000000</td>\n",
       "    </tr>\n",
       "    <tr>\n",
       "      <th>2</th>\n",
       "      <td>106.250000</td>\n",
       "      <td>1.562500</td>\n",
       "      <td>20.812500</td>\n",
       "      <td>0.000000</td>\n",
       "    </tr>\n",
       "    <tr>\n",
       "      <th>3</th>\n",
       "      <td>32.321429</td>\n",
       "      <td>0.053571</td>\n",
       "      <td>1.071429</td>\n",
       "      <td>1.000000</td>\n",
       "    </tr>\n",
       "  </tbody>\n",
       "</table>\n",
       "</div>"
      ],
      "text/plain": [
       "             Calories  Total Fat    Protein  2clusters\n",
       "4clusters                                             \n",
       "0           94.615385   0.923077   2.076923   0.923077\n",
       "1          147.500000   7.000000  19.250000   0.000000\n",
       "2          106.250000   1.562500  20.812500   0.000000\n",
       "3           32.321429   0.053571   1.071429   1.000000"
      ]
     },
     "execution_count": 18,
     "metadata": {},
     "output_type": "execute_result"
    }
   ],
   "source": [
    "df_cluster.groupby(['4clusters']).mean()"
   ]
  },
  {
   "cell_type": "markdown",
   "metadata": {
    "colab_type": "text",
    "id": "Soh88rpIYm-4"
   },
   "source": [
    "En este nuevo cluster de 4 kernels, la tabla agrupada nos deja ver que el grupo con alto contenido en proteinas se ha divido en aquellos con bajo y alto valor en grasas. \n",
    "\n",
    "Si representamos esto podemos ver que el grupo con alto valor proteico está claramente diferenciado, representado ahora por puntos verdes y azules. \n",
    "\n",
    "En cambio, el grupo con bajo nivel de proteinas parece que no lo ha diferenciado bien. Si reresentamos Proteinas frente a Calorias veremos que el clustering si ha separado correctamente."
   ]
  },
  {
   "cell_type": "code",
   "execution_count": 64,
   "metadata": {},
   "outputs": [
    {
     "data": {
      "text/plain": [
       "<matplotlib.axes._subplots.AxesSubplot at 0x1e7f9863080>"
      ]
     },
     "execution_count": 64,
     "metadata": {},
     "output_type": "execute_result"
    },
    {
     "data": {
      "image/png": "[encoded data removed]",
      "text/plain": [
       "<Figure size 1152x360 with 2 Axes>"
      ]
     },
     "metadata": {
      "needs_background": "light"
     },
     "output_type": "display_data"
    }
   ],
   "source": [
    "fig, axs = plt.subplots(1,2, figsize= (16,5))\n",
    "df_cluster.plot.scatter('Protein', 'Total Fat', c = y_pred,\n",
    "                        s=50, cmap='viridis', colorbar = False, ax= axs[0])\n",
    "df_cluster.plot.scatter('Protein', 'Calories', c = y_pred,\n",
    "                        s=50, cmap='viridis', colorbar = False, ax= axs[1])"
   ]
  },
  {
   "cell_type": "markdown",
   "metadata": {
    "colab_type": "text",
    "id": "GxVToVxjYm--"
   },
   "source": [
    "Aunque para un alimento su contenido en proteinas y grasas sea similar, su contenido calorico puede difererir. Esto tiene sentido, ya que las calorias no son solo funcion de la cantidad de proteinas y grasas, otros nutrientes influyen."
   ]
  },
  {
   "cell_type": "markdown",
   "metadata": {
    "colab_type": "text",
    "id": "ZJUmeARoYm-_"
   },
   "source": [
    "### Extra: Clustermap\n",
    "El paquete seaborn ofrece una visualizacion rápida de nuestro dataset como `clustermap`. \n",
    "\n",
    "Si no estandarizamos, el resultado es el siguiente, donde rápidamente se muestra que el rango de cada variable es muy diferente. La columna de Calorias tiene valores mucho mayores que el resto, predomina sobre las demás.\n",
    "\n",
    "Es otra forma de ver la misma informacion que teniamos en el `pairplot`\n",
    "\n",
    "El cluster obtenido es diferente al que hemos obtenido anteriormente., como cabía esperar. "
   ]
  },
  {
   "cell_type": "code",
   "execution_count": 89,
   "metadata": {
    "colab": {},
    "colab_type": "code",
    "id": "uW0yGbVdYm_A",
    "outputId": "70eef501-a9e7-45b7-b35b-3ce2d6cead5f"
   },
   "outputs": [
    {
     "data": {
      "text/plain": [
       "<seaborn.matrix.ClusterGrid at 0x1e7fe2d4550>"
      ]
     },
     "execution_count": 89,
     "metadata": {},
     "output_type": "execute_result"
    },
    {
     "data": {
      "image/png": "[encoded data removed]",
      "text/plain": [
       "<Figure size 720x720 with 4 Axes>"
      ]
     },
     "metadata": {
      "needs_background": "light"
     },
     "output_type": "display_data"
    }
   ],
   "source": [
    "sns.clustermap(df_cluster.iloc[:,0:3], cmap=\"mako\")"
   ]
  },
  {
   "cell_type": "markdown",
   "metadata": {},
   "source": [
    "Una vez que estandarizamos: "
   ]
  },
  {
   "cell_type": "code",
   "execution_count": 90,
   "metadata": {},
   "outputs": [
    {
     "data": {
      "text/plain": [
       "<seaborn.matrix.ClusterGrid at 0x1e7fe4ea2e8>"
      ]
     },
     "execution_count": 90,
     "metadata": {},
     "output_type": "execute_result"
    },
    {
     "data": {
      "image/png": "[encoded data removed]",
      "text/plain": [
       "<Figure size 720x720 with 4 Axes>"
      ]
     },
     "metadata": {
      "needs_background": "light"
     },
     "output_type": "display_data"
    }
   ],
   "source": [
    "sns.clustermap(df_tr_std, cmap=\"mako\")"
   ]
  },
  {
   "cell_type": "markdown",
   "metadata": {
    "colab_type": "text",
    "id": "5XOTFzRLYm_C"
   },
   "source": [
    "### Extra:Elbow plot, determinar el numero k de clusters optimo \n",
    "\n",
    "Creo que es interesante para cuando nos enfrentemos a datasets más complejos."
   ]
  },
  {
   "cell_type": "code",
   "execution_count": 22,
   "metadata": {
    "colab": {},
    "colab_type": "code",
    "id": "B1yxASIwYm_C",
    "outputId": "a5ed5b9d-8b62-4e90-8310-80c8021a6241"
   },
   "outputs": [
    {
     "data": {
      "text/plain": [
       "Text(0.5, 1.0, 'The Elbow Method showing the optimal k')"
      ]
     },
     "execution_count": 22,
     "metadata": {},
     "output_type": "execute_result"
    },
    {
     "data": {
      "image/png": "[encoded data removed]",
      "text/plain": [
       "<Figure size 432x288 with 1 Axes>"
      ]
     },
     "metadata": {
      "needs_background": "light"
     },
     "output_type": "display_data"
    }
   ],
   "source": [
    "from scipy.spatial.distance import cdist\n",
    "\n",
    "distortions = []\n",
    "K = range(1,10)\n",
    "X= df_tr_std\n",
    "for k in K:\n",
    "    kmeanModel = KMeans(n_clusters=k).fit(X)\n",
    "    kmeanModel.fit(X)\n",
    "    distortions.append(sum(np.min(cdist(X, kmeanModel.cluster_centers_, 'euclidean'), axis=1)) / X.shape[0])\n",
    "\n",
    "# Plot the elbow\n",
    "plt.plot(K, distortions, 'bx-')\n",
    "plt.xlabel('k')\n",
    "plt.ylabel('Distortion')\n",
    "plt.title('The Elbow Method showing the optimal k')"
   ]
  }
 ],
 "metadata": {
  "colab": {
   "collapsed_sections": [],
   "name": "ClusterFood.ipynb",
   "provenance": []
  },
  "kernelspec": {
   "display_name": "Python 3",
   "language": "python",
   "name": "python3"
  },
  "language_info": {
   "codemirror_mode": {
    "name": "ipython",
    "version": 3
   },
   "file_extension": ".py",
   "mimetype": "text/x-python",
   "name": "python",
   "nbconvert_exporter": "python",
   "pygments_lexer": "ipython3",
   "version": "3.7.1"
  }
 },
 "nbformat": 4,
 "nbformat_minor": 2
}
